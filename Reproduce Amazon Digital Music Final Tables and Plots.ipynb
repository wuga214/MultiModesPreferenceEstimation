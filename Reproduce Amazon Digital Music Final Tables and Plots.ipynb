{
 "cells": [
  {
   "cell_type": "code",
   "execution_count": 1,
   "metadata": {},
   "outputs": [],
   "source": [
    "from os import listdir\n",
    "from os.path import isfile, join\n",
    "\n",
    "import ast\n",
    "import os\n",
    "import pandas as pd"
   ]
  },
  {
   "cell_type": "code",
   "execution_count": 2,
   "metadata": {},
   "outputs": [],
   "source": [
    "DATASET_NAME = 'amazon/digit_music/'"
   ]
  },
  {
   "cell_type": "code",
   "execution_count": 3,
   "metadata": {},
   "outputs": [],
   "source": [
    "df_baseline = pd.read_csv(\"tables/amazon/digital_music/amazon_digital_music_test_result.csv\", index_col=None, header=0)"
   ]
  },
  {
   "cell_type": "code",
   "execution_count": 4,
   "metadata": {},
   "outputs": [],
   "source": [
    "df_baseline = df_baseline[['model', 'R-Precision', 'NDCG', 'MAP@5',  'MAP@10', 'MAP@20', 'Precision@5', 'Precision@10', 'Precision@20', 'Recall@5', 'Recall@10', 'Recall@20']]"
   ]
  },
  {
   "cell_type": "code",
   "execution_count": 5,
   "metadata": {
    "scrolled": true
   },
   "outputs": [],
   "source": [
    "remaining_metrics = ['R-Precision', 'NDCG', 'MAP@5',  'MAP@10', 'MAP@20', 'Precision@5', 'Precision@10', 'Precision@20', 'Recall@5', 'Recall@10', 'Recall@20']"
   ]
  },
  {
   "cell_type": "code",
   "execution_count": 6,
   "metadata": {},
   "outputs": [],
   "source": [
    "for metric in remaining_metrics:\n",
    "    df_baseline[metric] = df_baseline[metric].map(lambda x: ast.literal_eval(x)[0])"
   ]
  },
  {
   "cell_type": "code",
   "execution_count": 7,
   "metadata": {
    "scrolled": true
   },
   "outputs": [],
   "source": [
    "df_baseline = df_baseline.sort_values(by='model')"
   ]
  },
  {
   "cell_type": "code",
   "execution_count": 8,
   "metadata": {},
   "outputs": [],
   "source": [
    "# df_baseline.to_csv('tables/amazon/digital_music/results.csv', index=False)"
   ]
  },
  {
   "cell_type": "code",
   "execution_count": null,
   "metadata": {},
   "outputs": [],
   "source": []
  },
  {
   "cell_type": "markdown",
   "metadata": {},
   "source": [
    "# Final Recommendation Performance"
   ]
  },
  {
   "cell_type": "code",
   "execution_count": 9,
   "metadata": {},
   "outputs": [
    {
     "name": "stdout",
     "output_type": "stream",
     "text": [
      "['tables/amazon/digital_music/final_general/mmp_final.csv']\n"
     ]
    }
   ],
   "source": [
    "folder_path = 'tables/amazon/digital_music/final_general'\n",
    "    \n",
    "csv_files = [join(folder_path, f) for f in listdir(folder_path) \n",
    "             if isfile(join(folder_path, f)) and f.endswith('.csv')]\n",
    "print(csv_files)"
   ]
  },
  {
   "cell_type": "code",
   "execution_count": 10,
   "metadata": {},
   "outputs": [],
   "source": [
    "df_list = []\n",
    "\n",
    "for filename in csv_files:\n",
    "    df = pd.read_csv(filename, index_col=None, header=0)\n",
    "    df_list.append(df)\n",
    "\n",
    "df = pd.concat(df_list, axis=0, ignore_index=True)"
   ]
  },
  {
   "cell_type": "code",
   "execution_count": 11,
   "metadata": {
    "scrolled": true
   },
   "outputs": [
    {
     "data": {
      "text/html": [
       "<div>\n",
       "<style scoped>\n",
       "    .dataframe tbody tr th:only-of-type {\n",
       "        vertical-align: middle;\n",
       "    }\n",
       "\n",
       "    .dataframe tbody tr th {\n",
       "        vertical-align: top;\n",
       "    }\n",
       "\n",
       "    .dataframe thead th {\n",
       "        text-align: right;\n",
       "    }\n",
       "</style>\n",
       "<table border=\"1\" class=\"dataframe\">\n",
       "  <thead>\n",
       "    <tr style=\"text-align: right;\">\n",
       "      <th></th>\n",
       "      <th>model</th>\n",
       "      <th>similarity</th>\n",
       "      <th>alpha</th>\n",
       "      <th>batch_size</th>\n",
       "      <th>corruption</th>\n",
       "      <th>epoch</th>\n",
       "      <th>iteration</th>\n",
       "      <th>key_dimension</th>\n",
       "      <th>lambda</th>\n",
       "      <th>learning_rate</th>\n",
       "      <th>...</th>\n",
       "      <th>Precision@20</th>\n",
       "      <th>Precision@5</th>\n",
       "      <th>Precision@50</th>\n",
       "      <th>R-Precision</th>\n",
       "      <th>Recall@10</th>\n",
       "      <th>Recall@15</th>\n",
       "      <th>Recall@20</th>\n",
       "      <th>Recall@5</th>\n",
       "      <th>Recall@50</th>\n",
       "      <th>metric</th>\n",
       "    </tr>\n",
       "  </thead>\n",
       "  <tbody>\n",
       "    <tr>\n",
       "      <th>0</th>\n",
       "      <td>MMP</td>\n",
       "      <td>Cosine</td>\n",
       "      <td>0.1</td>\n",
       "      <td>32</td>\n",
       "      <td>0.4</td>\n",
       "      <td>300</td>\n",
       "      <td>10</td>\n",
       "      <td>3</td>\n",
       "      <td>0.001</td>\n",
       "      <td>0.00005</td>\n",
       "      <td>...</td>\n",
       "      <td>[0.0073, 0.0003]</td>\n",
       "      <td>[0.0137, 0.0008]</td>\n",
       "      <td>[0.0046, 0.0002]</td>\n",
       "      <td>[0.0223, 0.0019]</td>\n",
       "      <td>[0.0539, 0.0031]</td>\n",
       "      <td>[0.0653, 0.0034]</td>\n",
       "      <td>[0.0757, 0.0036]</td>\n",
       "      <td>[0.0383, 0.0026]</td>\n",
       "      <td>[0.1131, 0.0043]</td>\n",
       "      <td>['R-Precision', 'NDCG', 'Precision', 'Recall',...</td>\n",
       "    </tr>\n",
       "  </tbody>\n",
       "</table>\n",
       "<p>1 rows × 33 columns</p>\n",
       "</div>"
      ],
      "text/plain": [
       "  model similarity  alpha  batch_size  corruption  epoch  iteration  \\\n",
       "0   MMP     Cosine    0.1          32         0.4    300         10   \n",
       "\n",
       "   key_dimension  lambda  learning_rate  ...      Precision@20  \\\n",
       "0              3   0.001        0.00005  ...  [0.0073, 0.0003]   \n",
       "\n",
       "        Precision@5      Precision@50       R-Precision         Recall@10  \\\n",
       "0  [0.0137, 0.0008]  [0.0046, 0.0002]  [0.0223, 0.0019]  [0.0539, 0.0031]   \n",
       "\n",
       "          Recall@15         Recall@20          Recall@5         Recall@50  \\\n",
       "0  [0.0653, 0.0034]  [0.0757, 0.0036]  [0.0383, 0.0026]  [0.1131, 0.0043]   \n",
       "\n",
       "                                              metric  \n",
       "0  ['R-Precision', 'NDCG', 'Precision', 'Recall',...  \n",
       "\n",
       "[1 rows x 33 columns]"
      ]
     },
     "execution_count": 11,
     "metadata": {},
     "output_type": "execute_result"
    }
   ],
   "source": [
    "df"
   ]
  },
  {
   "cell_type": "code",
   "execution_count": 12,
   "metadata": {},
   "outputs": [],
   "source": [
    "remaining_metrics = ['R-Precision', 'NDCG', 'MAP@5',  'MAP@10', 'MAP@20', 'Precision@5', 'Precision@10', 'Precision@20', 'Recall@5', 'Recall@10', 'Recall@20']"
   ]
  },
  {
   "cell_type": "code",
   "execution_count": 13,
   "metadata": {},
   "outputs": [],
   "source": [
    "for metric in remaining_metrics:\n",
    "    df[metric] = df[metric].map(lambda x: ast.literal_eval(x)[0])"
   ]
  },
  {
   "cell_type": "code",
   "execution_count": 14,
   "metadata": {
    "scrolled": true
   },
   "outputs": [
    {
     "data": {
      "text/html": [
       "<div>\n",
       "<style scoped>\n",
       "    .dataframe tbody tr th:only-of-type {\n",
       "        vertical-align: middle;\n",
       "    }\n",
       "\n",
       "    .dataframe tbody tr th {\n",
       "        vertical-align: top;\n",
       "    }\n",
       "\n",
       "    .dataframe thead th {\n",
       "        text-align: right;\n",
       "    }\n",
       "</style>\n",
       "<table border=\"1\" class=\"dataframe\">\n",
       "  <thead>\n",
       "    <tr style=\"text-align: right;\">\n",
       "      <th></th>\n",
       "      <th>model</th>\n",
       "      <th>similarity</th>\n",
       "      <th>alpha</th>\n",
       "      <th>batch_size</th>\n",
       "      <th>corruption</th>\n",
       "      <th>epoch</th>\n",
       "      <th>iteration</th>\n",
       "      <th>key_dimension</th>\n",
       "      <th>lambda</th>\n",
       "      <th>learning_rate</th>\n",
       "      <th>...</th>\n",
       "      <th>Precision@20</th>\n",
       "      <th>Precision@5</th>\n",
       "      <th>Precision@50</th>\n",
       "      <th>R-Precision</th>\n",
       "      <th>Recall@10</th>\n",
       "      <th>Recall@15</th>\n",
       "      <th>Recall@20</th>\n",
       "      <th>Recall@5</th>\n",
       "      <th>Recall@50</th>\n",
       "      <th>metric</th>\n",
       "    </tr>\n",
       "  </thead>\n",
       "  <tbody>\n",
       "    <tr>\n",
       "      <th>0</th>\n",
       "      <td>MMP</td>\n",
       "      <td>Cosine</td>\n",
       "      <td>0.1</td>\n",
       "      <td>32</td>\n",
       "      <td>0.4</td>\n",
       "      <td>300</td>\n",
       "      <td>10</td>\n",
       "      <td>3</td>\n",
       "      <td>0.001</td>\n",
       "      <td>0.00005</td>\n",
       "      <td>...</td>\n",
       "      <td>0.0073</td>\n",
       "      <td>0.0137</td>\n",
       "      <td>[0.0046, 0.0002]</td>\n",
       "      <td>0.0223</td>\n",
       "      <td>0.0539</td>\n",
       "      <td>[0.0653, 0.0034]</td>\n",
       "      <td>0.0757</td>\n",
       "      <td>0.0383</td>\n",
       "      <td>[0.1131, 0.0043]</td>\n",
       "      <td>['R-Precision', 'NDCG', 'Precision', 'Recall',...</td>\n",
       "    </tr>\n",
       "  </tbody>\n",
       "</table>\n",
       "<p>1 rows × 33 columns</p>\n",
       "</div>"
      ],
      "text/plain": [
       "  model similarity  alpha  batch_size  corruption  epoch  iteration  \\\n",
       "0   MMP     Cosine    0.1          32         0.4    300         10   \n",
       "\n",
       "   key_dimension  lambda  learning_rate  ...  Precision@20  Precision@5  \\\n",
       "0              3   0.001        0.00005  ...        0.0073       0.0137   \n",
       "\n",
       "       Precision@50  R-Precision Recall@10         Recall@15 Recall@20  \\\n",
       "0  [0.0046, 0.0002]       0.0223    0.0539  [0.0653, 0.0034]    0.0757   \n",
       "\n",
       "   Recall@5         Recall@50  \\\n",
       "0    0.0383  [0.1131, 0.0043]   \n",
       "\n",
       "                                              metric  \n",
       "0  ['R-Precision', 'NDCG', 'Precision', 'Recall',...  \n",
       "\n",
       "[1 rows x 33 columns]"
      ]
     },
     "execution_count": 14,
     "metadata": {},
     "output_type": "execute_result"
    }
   ],
   "source": [
    "df"
   ]
  },
  {
   "cell_type": "code",
   "execution_count": 15,
   "metadata": {
    "scrolled": true
   },
   "outputs": [
    {
     "data": {
      "text/html": [
       "<div>\n",
       "<style scoped>\n",
       "    .dataframe tbody tr th:only-of-type {\n",
       "        vertical-align: middle;\n",
       "    }\n",
       "\n",
       "    .dataframe tbody tr th {\n",
       "        vertical-align: top;\n",
       "    }\n",
       "\n",
       "    .dataframe thead th {\n",
       "        text-align: right;\n",
       "    }\n",
       "</style>\n",
       "<table border=\"1\" class=\"dataframe\">\n",
       "  <thead>\n",
       "    <tr style=\"text-align: right;\">\n",
       "      <th></th>\n",
       "      <th>model</th>\n",
       "      <th>R-Precision</th>\n",
       "      <th>NDCG</th>\n",
       "      <th>MAP@5</th>\n",
       "      <th>MAP@10</th>\n",
       "      <th>MAP@20</th>\n",
       "      <th>Precision@5</th>\n",
       "      <th>Precision@10</th>\n",
       "      <th>Precision@20</th>\n",
       "      <th>Recall@5</th>\n",
       "      <th>Recall@10</th>\n",
       "      <th>Recall@20</th>\n",
       "    </tr>\n",
       "  </thead>\n",
       "  <tbody>\n",
       "    <tr>\n",
       "      <th>0</th>\n",
       "      <td>MMP</td>\n",
       "      <td>0.0223</td>\n",
       "      <td>0.053</td>\n",
       "      <td>0.0189</td>\n",
       "      <td>0.0151</td>\n",
       "      <td>0.0116</td>\n",
       "      <td>0.0137</td>\n",
       "      <td>0.01</td>\n",
       "      <td>0.0073</td>\n",
       "      <td>0.0383</td>\n",
       "      <td>0.0539</td>\n",
       "      <td>0.0757</td>\n",
       "    </tr>\n",
       "  </tbody>\n",
       "</table>\n",
       "</div>"
      ],
      "text/plain": [
       "  model  R-Precision   NDCG   MAP@5  MAP@10  MAP@20  Precision@5  \\\n",
       "0   MMP       0.0223  0.053  0.0189  0.0151  0.0116       0.0137   \n",
       "\n",
       "   Precision@10  Precision@20  Recall@5  Recall@10  Recall@20  \n",
       "0          0.01        0.0073    0.0383     0.0539     0.0757  "
      ]
     },
     "execution_count": 15,
     "metadata": {},
     "output_type": "execute_result"
    }
   ],
   "source": [
    "df = df.sort_values(by='NDCG', ascending=False)[['model', 'R-Precision', 'NDCG', 'MAP@5',  'MAP@10', 'MAP@20', 'Precision@5', 'Precision@10', 'Precision@20', 'Recall@5', 'Recall@10', 'Recall@20']]\n",
    "df"
   ]
  },
  {
   "cell_type": "code",
   "execution_count": 16,
   "metadata": {},
   "outputs": [
    {
     "data": {
      "text/html": [
       "<div>\n",
       "<style scoped>\n",
       "    .dataframe tbody tr th:only-of-type {\n",
       "        vertical-align: middle;\n",
       "    }\n",
       "\n",
       "    .dataframe tbody tr th {\n",
       "        vertical-align: top;\n",
       "    }\n",
       "\n",
       "    .dataframe thead th {\n",
       "        text-align: right;\n",
       "    }\n",
       "</style>\n",
       "<table border=\"1\" class=\"dataframe\">\n",
       "  <thead>\n",
       "    <tr style=\"text-align: right;\">\n",
       "      <th></th>\n",
       "      <th>model</th>\n",
       "      <th>R-Precision</th>\n",
       "      <th>NDCG</th>\n",
       "      <th>MAP@5</th>\n",
       "      <th>MAP@10</th>\n",
       "      <th>MAP@20</th>\n",
       "      <th>Precision@5</th>\n",
       "      <th>Precision@10</th>\n",
       "      <th>Precision@20</th>\n",
       "      <th>Recall@5</th>\n",
       "      <th>Recall@10</th>\n",
       "      <th>Recall@20</th>\n",
       "    </tr>\n",
       "  </thead>\n",
       "  <tbody>\n",
       "    <tr>\n",
       "      <th>1</th>\n",
       "      <td>AutoRec</td>\n",
       "      <td>0.0034</td>\n",
       "      <td>0.0120</td>\n",
       "      <td>0.0036</td>\n",
       "      <td>0.0031</td>\n",
       "      <td>0.0026</td>\n",
       "      <td>0.0029</td>\n",
       "      <td>0.0024</td>\n",
       "      <td>0.0019</td>\n",
       "      <td>0.0064</td>\n",
       "      <td>0.0109</td>\n",
       "      <td>0.0168</td>\n",
       "    </tr>\n",
       "    <tr>\n",
       "      <th>2</th>\n",
       "      <td>BPR</td>\n",
       "      <td>0.0304</td>\n",
       "      <td>0.0694</td>\n",
       "      <td>0.0245</td>\n",
       "      <td>0.0192</td>\n",
       "      <td>0.0147</td>\n",
       "      <td>0.0171</td>\n",
       "      <td>0.0123</td>\n",
       "      <td>0.0089</td>\n",
       "      <td>0.0523</td>\n",
       "      <td>0.0711</td>\n",
       "      <td>0.0988</td>\n",
       "    </tr>\n",
       "    <tr>\n",
       "      <th>3</th>\n",
       "      <td>CDAE</td>\n",
       "      <td>0.0032</td>\n",
       "      <td>0.0117</td>\n",
       "      <td>0.0033</td>\n",
       "      <td>0.0030</td>\n",
       "      <td>0.0025</td>\n",
       "      <td>0.0032</td>\n",
       "      <td>0.0024</td>\n",
       "      <td>0.0018</td>\n",
       "      <td>0.0070</td>\n",
       "      <td>0.0109</td>\n",
       "      <td>0.0165</td>\n",
       "    </tr>\n",
       "    <tr>\n",
       "      <th>4</th>\n",
       "      <td>CML</td>\n",
       "      <td>0.0029</td>\n",
       "      <td>0.0150</td>\n",
       "      <td>0.0031</td>\n",
       "      <td>0.0028</td>\n",
       "      <td>0.0025</td>\n",
       "      <td>0.0026</td>\n",
       "      <td>0.0024</td>\n",
       "      <td>0.0023</td>\n",
       "      <td>0.0060</td>\n",
       "      <td>0.0105</td>\n",
       "      <td>0.0216</td>\n",
       "    </tr>\n",
       "    <tr>\n",
       "      <th>5</th>\n",
       "      <td>NCE-PLRec</td>\n",
       "      <td>0.0162</td>\n",
       "      <td>0.0462</td>\n",
       "      <td>0.0152</td>\n",
       "      <td>0.0125</td>\n",
       "      <td>0.0100</td>\n",
       "      <td>0.0119</td>\n",
       "      <td>0.0089</td>\n",
       "      <td>0.0068</td>\n",
       "      <td>0.0305</td>\n",
       "      <td>0.0446</td>\n",
       "      <td>0.0679</td>\n",
       "    </tr>\n",
       "    <tr>\n",
       "      <th>6</th>\n",
       "      <td>PLRec</td>\n",
       "      <td>0.0150</td>\n",
       "      <td>0.0414</td>\n",
       "      <td>0.0141</td>\n",
       "      <td>0.0114</td>\n",
       "      <td>0.0090</td>\n",
       "      <td>0.0105</td>\n",
       "      <td>0.0078</td>\n",
       "      <td>0.0060</td>\n",
       "      <td>0.0272</td>\n",
       "      <td>0.0394</td>\n",
       "      <td>0.0591</td>\n",
       "    </tr>\n",
       "    <tr>\n",
       "      <th>0</th>\n",
       "      <td>POP</td>\n",
       "      <td>0.0029</td>\n",
       "      <td>0.0110</td>\n",
       "      <td>0.0029</td>\n",
       "      <td>0.0027</td>\n",
       "      <td>0.0023</td>\n",
       "      <td>0.0028</td>\n",
       "      <td>0.0022</td>\n",
       "      <td>0.0017</td>\n",
       "      <td>0.0064</td>\n",
       "      <td>0.0092</td>\n",
       "      <td>0.0153</td>\n",
       "    </tr>\n",
       "    <tr>\n",
       "      <th>7</th>\n",
       "      <td>PureSVD</td>\n",
       "      <td>0.0161</td>\n",
       "      <td>0.0406</td>\n",
       "      <td>0.0147</td>\n",
       "      <td>0.0117</td>\n",
       "      <td>0.0090</td>\n",
       "      <td>0.0107</td>\n",
       "      <td>0.0078</td>\n",
       "      <td>0.0056</td>\n",
       "      <td>0.0284</td>\n",
       "      <td>0.0404</td>\n",
       "      <td>0.0571</td>\n",
       "    </tr>\n",
       "    <tr>\n",
       "      <th>8</th>\n",
       "      <td>VAE-CF</td>\n",
       "      <td>0.0294</td>\n",
       "      <td>0.0668</td>\n",
       "      <td>0.0232</td>\n",
       "      <td>0.0183</td>\n",
       "      <td>0.0141</td>\n",
       "      <td>0.0167</td>\n",
       "      <td>0.0121</td>\n",
       "      <td>0.0086</td>\n",
       "      <td>0.0499</td>\n",
       "      <td>0.0694</td>\n",
       "      <td>0.0943</td>\n",
       "    </tr>\n",
       "    <tr>\n",
       "      <th>0</th>\n",
       "      <td>MMP</td>\n",
       "      <td>0.0223</td>\n",
       "      <td>0.0530</td>\n",
       "      <td>0.0189</td>\n",
       "      <td>0.0151</td>\n",
       "      <td>0.0116</td>\n",
       "      <td>0.0137</td>\n",
       "      <td>0.0100</td>\n",
       "      <td>0.0073</td>\n",
       "      <td>0.0383</td>\n",
       "      <td>0.0539</td>\n",
       "      <td>0.0757</td>\n",
       "    </tr>\n",
       "  </tbody>\n",
       "</table>\n",
       "</div>"
      ],
      "text/plain": [
       "       model  R-Precision    NDCG   MAP@5  MAP@10  MAP@20  Precision@5  \\\n",
       "1    AutoRec       0.0034  0.0120  0.0036  0.0031  0.0026       0.0029   \n",
       "2        BPR       0.0304  0.0694  0.0245  0.0192  0.0147       0.0171   \n",
       "3       CDAE       0.0032  0.0117  0.0033  0.0030  0.0025       0.0032   \n",
       "4        CML       0.0029  0.0150  0.0031  0.0028  0.0025       0.0026   \n",
       "5  NCE-PLRec       0.0162  0.0462  0.0152  0.0125  0.0100       0.0119   \n",
       "6      PLRec       0.0150  0.0414  0.0141  0.0114  0.0090       0.0105   \n",
       "0        POP       0.0029  0.0110  0.0029  0.0027  0.0023       0.0028   \n",
       "7    PureSVD       0.0161  0.0406  0.0147  0.0117  0.0090       0.0107   \n",
       "8     VAE-CF       0.0294  0.0668  0.0232  0.0183  0.0141       0.0167   \n",
       "0        MMP       0.0223  0.0530  0.0189  0.0151  0.0116       0.0137   \n",
       "\n",
       "   Precision@10  Precision@20  Recall@5  Recall@10  Recall@20  \n",
       "1        0.0024        0.0019    0.0064     0.0109     0.0168  \n",
       "2        0.0123        0.0089    0.0523     0.0711     0.0988  \n",
       "3        0.0024        0.0018    0.0070     0.0109     0.0165  \n",
       "4        0.0024        0.0023    0.0060     0.0105     0.0216  \n",
       "5        0.0089        0.0068    0.0305     0.0446     0.0679  \n",
       "6        0.0078        0.0060    0.0272     0.0394     0.0591  \n",
       "0        0.0022        0.0017    0.0064     0.0092     0.0153  \n",
       "7        0.0078        0.0056    0.0284     0.0404     0.0571  \n",
       "8        0.0121        0.0086    0.0499     0.0694     0.0943  \n",
       "0        0.0100        0.0073    0.0383     0.0539     0.0757  "
      ]
     },
     "execution_count": 16,
     "metadata": {},
     "output_type": "execute_result"
    }
   ],
   "source": [
    "df_total = df_baseline.append(df.head(1))\n",
    "df_total"
   ]
  },
  {
   "cell_type": "code",
   "execution_count": 17,
   "metadata": {},
   "outputs": [],
   "source": [
    "df_total.to_csv('tables/amazon/digital_music/results.csv', index=False)"
   ]
  }
 ],
 "metadata": {
  "kernelspec": {
   "display_name": "tf-gpu",
   "language": "python",
   "name": "tf-gpu"
  },
  "language_info": {
   "codemirror_mode": {
    "name": "ipython",
    "version": 3
   },
   "file_extension": ".py",
   "mimetype": "text/x-python",
   "name": "python",
   "nbconvert_exporter": "python",
   "pygments_lexer": "ipython3",
   "version": "3.7.3"
  }
 },
 "nbformat": 4,
 "nbformat_minor": 2
}
