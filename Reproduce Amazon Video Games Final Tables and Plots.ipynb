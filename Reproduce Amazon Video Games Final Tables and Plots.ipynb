{
 "cells": [
  {
   "cell_type": "code",
   "execution_count": 1,
   "metadata": {},
   "outputs": [],
   "source": [
    "from os import listdir\n",
    "from os.path import isfile, join\n",
    "\n",
    "import ast\n",
    "import os\n",
    "import pandas as pd"
   ]
  },
  {
   "cell_type": "code",
   "execution_count": 2,
   "metadata": {},
   "outputs": [],
   "source": [
    "DATASET_NAME = 'amazon/video_games/'"
   ]
  },
  {
   "cell_type": "code",
   "execution_count": 3,
   "metadata": {},
   "outputs": [],
   "source": [
    "df_baseline = pd.read_csv(\"tables/amazon/video_games/amazon_video_games_test_result.csv\", index_col=None, header=0)"
   ]
  },
  {
   "cell_type": "code",
   "execution_count": 4,
   "metadata": {},
   "outputs": [],
   "source": [
    "df_baseline = df_baseline[['model', 'R-Precision', 'NDCG', 'MAP@5',  'MAP@10', 'MAP@20', 'Precision@5', 'Precision@10', 'Precision@20', 'Recall@5', 'Recall@10', 'Recall@20']]"
   ]
  },
  {
   "cell_type": "code",
   "execution_count": 5,
   "metadata": {
    "scrolled": true
   },
   "outputs": [],
   "source": [
    "remaining_metrics = ['R-Precision', 'NDCG', 'MAP@5',  'MAP@10', 'MAP@20', 'Precision@5', 'Precision@10', 'Precision@20', 'Recall@5', 'Recall@10', 'Recall@20']"
   ]
  },
  {
   "cell_type": "code",
   "execution_count": 6,
   "metadata": {},
   "outputs": [],
   "source": [
    "for metric in remaining_metrics:\n",
    "    df_baseline[metric] = df_baseline[metric].map(lambda x: ast.literal_eval(x)[0])"
   ]
  },
  {
   "cell_type": "code",
   "execution_count": 7,
   "metadata": {
    "scrolled": true
   },
   "outputs": [],
   "source": [
    "df_baseline = df_baseline.sort_values(by='model')"
   ]
  },
  {
   "cell_type": "code",
   "execution_count": 8,
   "metadata": {},
   "outputs": [],
   "source": [
    "# df_baseline.to_csv('tables/amazon/digital_music/results.csv', index=False)"
   ]
  },
  {
   "cell_type": "code",
   "execution_count": null,
   "metadata": {},
   "outputs": [],
   "source": []
  },
  {
   "cell_type": "markdown",
   "metadata": {},
   "source": [
    "# Final Recommendation Performance"
   ]
  },
  {
   "cell_type": "code",
   "execution_count": 8,
   "metadata": {},
   "outputs": [
    {
     "name": "stdout",
     "output_type": "stream",
     "text": [
      "['tables/amazon/video_games/dvae/final_general/final.csv']\n"
     ]
    }
   ],
   "source": [
    "folder_path = 'tables/amazon/video_games/dvae/final_general'\n",
    "    \n",
    "csv_files = [join(folder_path, f) for f in listdir(folder_path) \n",
    "             if isfile(join(folder_path, f)) and f.endswith('.csv')]\n",
    "print(csv_files)"
   ]
  },
  {
   "cell_type": "code",
   "execution_count": 9,
   "metadata": {},
   "outputs": [],
   "source": [
    "df_list = []\n",
    "\n",
    "for filename in csv_files:\n",
    "    df = pd.read_csv(filename, index_col=None, header=0)\n",
    "    df_list.append(df)\n",
    "\n",
    "df = pd.concat(df_list, axis=0, ignore_index=True)"
   ]
  },
  {
   "cell_type": "code",
   "execution_count": 10,
   "metadata": {
    "scrolled": true
   },
   "outputs": [
    {
     "data": {
      "text/html": [
       "<div>\n",
       "<style scoped>\n",
       "    .dataframe tbody tr th:only-of-type {\n",
       "        vertical-align: middle;\n",
       "    }\n",
       "\n",
       "    .dataframe tbody tr th {\n",
       "        vertical-align: top;\n",
       "    }\n",
       "\n",
       "    .dataframe thead th {\n",
       "        text-align: right;\n",
       "    }\n",
       "</style>\n",
       "<table border=\"1\" class=\"dataframe\">\n",
       "  <thead>\n",
       "    <tr style=\"text-align: right;\">\n",
       "      <th></th>\n",
       "      <th>lam</th>\n",
       "      <th>lr</th>\n",
       "      <th>kfac</th>\n",
       "      <th>dfac</th>\n",
       "      <th>beta</th>\n",
       "      <th>MAP@10</th>\n",
       "      <th>MAP@15</th>\n",
       "      <th>MAP@20</th>\n",
       "      <th>MAP@5</th>\n",
       "      <th>MAP@50</th>\n",
       "      <th>...</th>\n",
       "      <th>Precision@15</th>\n",
       "      <th>Precision@20</th>\n",
       "      <th>Precision@5</th>\n",
       "      <th>Precision@50</th>\n",
       "      <th>R-Precision</th>\n",
       "      <th>Recall@10</th>\n",
       "      <th>Recall@15</th>\n",
       "      <th>Recall@20</th>\n",
       "      <th>Recall@5</th>\n",
       "      <th>Recall@50</th>\n",
       "    </tr>\n",
       "  </thead>\n",
       "  <tbody>\n",
       "    <tr>\n",
       "      <th>0</th>\n",
       "      <td>0.00001</td>\n",
       "      <td>0.0001</td>\n",
       "      <td>5</td>\n",
       "      <td>200</td>\n",
       "      <td>0.2</td>\n",
       "      <td>[0.019, 0.0005]</td>\n",
       "      <td>[0.0169, 0.0004]</td>\n",
       "      <td>[0.0155, 0.0004]</td>\n",
       "      <td>[0.0227, 0.0008]</td>\n",
       "      <td>[0.0113, 0.0002]</td>\n",
       "      <td>...</td>\n",
       "      <td>[0.012, 0.0003]</td>\n",
       "      <td>[0.0107, 0.0002]</td>\n",
       "      <td>[0.0179, 0.0005]</td>\n",
       "      <td>[0.0071, 0.0001]</td>\n",
       "      <td>[0.0269, 0.0012]</td>\n",
       "      <td>[0.0848, 0.0021]</td>\n",
       "      <td>[0.1076, 0.0024]</td>\n",
       "      <td>[0.127, 0.0025]</td>\n",
       "      <td>[0.0561, 0.0018]</td>\n",
       "      <td>[0.2043, 0.003]</td>\n",
       "    </tr>\n",
       "  </tbody>\n",
       "</table>\n",
       "<p>1 rows × 22 columns</p>\n",
       "</div>"
      ],
      "text/plain": [
       "       lam      lr  kfac  dfac  beta           MAP@10            MAP@15  \\\n",
       "0  0.00001  0.0001     5   200   0.2  [0.019, 0.0005]  [0.0169, 0.0004]   \n",
       "\n",
       "             MAP@20             MAP@5            MAP@50  ...     Precision@15  \\\n",
       "0  [0.0155, 0.0004]  [0.0227, 0.0008]  [0.0113, 0.0002]  ...  [0.012, 0.0003]   \n",
       "\n",
       "       Precision@20       Precision@5      Precision@50       R-Precision  \\\n",
       "0  [0.0107, 0.0002]  [0.0179, 0.0005]  [0.0071, 0.0001]  [0.0269, 0.0012]   \n",
       "\n",
       "          Recall@10         Recall@15        Recall@20          Recall@5  \\\n",
       "0  [0.0848, 0.0021]  [0.1076, 0.0024]  [0.127, 0.0025]  [0.0561, 0.0018]   \n",
       "\n",
       "         Recall@50  \n",
       "0  [0.2043, 0.003]  \n",
       "\n",
       "[1 rows x 22 columns]"
      ]
     },
     "execution_count": 10,
     "metadata": {},
     "output_type": "execute_result"
    }
   ],
   "source": [
    "df"
   ]
  },
  {
   "cell_type": "code",
   "execution_count": 11,
   "metadata": {},
   "outputs": [],
   "source": [
    "remaining_metrics = ['R-Precision', 'NDCG', 'MAP@5',  'MAP@10', 'MAP@20', 'Precision@5', 'Precision@10', 'Precision@20', 'Recall@5', 'Recall@10', 'Recall@20']"
   ]
  },
  {
   "cell_type": "code",
   "execution_count": 12,
   "metadata": {},
   "outputs": [],
   "source": [
    "for metric in remaining_metrics:\n",
    "    df[metric] = df[metric].map(lambda x: ast.literal_eval(x)[0])"
   ]
  },
  {
   "cell_type": "code",
   "execution_count": 16,
   "metadata": {
    "scrolled": true
   },
   "outputs": [
    {
     "data": {
      "text/html": [
       "<div>\n",
       "<style scoped>\n",
       "    .dataframe tbody tr th:only-of-type {\n",
       "        vertical-align: middle;\n",
       "    }\n",
       "\n",
       "    .dataframe tbody tr th {\n",
       "        vertical-align: top;\n",
       "    }\n",
       "\n",
       "    .dataframe thead th {\n",
       "        text-align: right;\n",
       "    }\n",
       "</style>\n",
       "<table border=\"1\" class=\"dataframe\">\n",
       "  <thead>\n",
       "    <tr style=\"text-align: right;\">\n",
       "      <th></th>\n",
       "      <th>model</th>\n",
       "      <th>lam</th>\n",
       "      <th>lr</th>\n",
       "      <th>kfac</th>\n",
       "      <th>dfac</th>\n",
       "      <th>beta</th>\n",
       "      <th>MAP@10</th>\n",
       "      <th>MAP@15</th>\n",
       "      <th>MAP@20</th>\n",
       "      <th>MAP@5</th>\n",
       "      <th>...</th>\n",
       "      <th>Precision@15</th>\n",
       "      <th>Precision@20</th>\n",
       "      <th>Precision@5</th>\n",
       "      <th>Precision@50</th>\n",
       "      <th>R-Precision</th>\n",
       "      <th>Recall@10</th>\n",
       "      <th>Recall@15</th>\n",
       "      <th>Recall@20</th>\n",
       "      <th>Recall@5</th>\n",
       "      <th>Recall@50</th>\n",
       "    </tr>\n",
       "  </thead>\n",
       "  <tbody>\n",
       "    <tr>\n",
       "      <th>0</th>\n",
       "      <td>MacridVAE</td>\n",
       "      <td>0.00001</td>\n",
       "      <td>0.0001</td>\n",
       "      <td>5</td>\n",
       "      <td>200</td>\n",
       "      <td>0.2</td>\n",
       "      <td>0.019</td>\n",
       "      <td>[0.0169, 0.0004]</td>\n",
       "      <td>0.0155</td>\n",
       "      <td>0.0227</td>\n",
       "      <td>...</td>\n",
       "      <td>[0.012, 0.0003]</td>\n",
       "      <td>0.0107</td>\n",
       "      <td>0.0179</td>\n",
       "      <td>[0.0071, 0.0001]</td>\n",
       "      <td>0.0269</td>\n",
       "      <td>0.0848</td>\n",
       "      <td>[0.1076, 0.0024]</td>\n",
       "      <td>0.127</td>\n",
       "      <td>0.0561</td>\n",
       "      <td>[0.2043, 0.003]</td>\n",
       "    </tr>\n",
       "  </tbody>\n",
       "</table>\n",
       "<p>1 rows × 23 columns</p>\n",
       "</div>"
      ],
      "text/plain": [
       "       model      lam      lr  kfac  dfac  beta  MAP@10            MAP@15  \\\n",
       "0  MacridVAE  0.00001  0.0001     5   200   0.2   0.019  [0.0169, 0.0004]   \n",
       "\n",
       "   MAP@20   MAP@5  ...     Precision@15  Precision@20  Precision@5  \\\n",
       "0  0.0155  0.0227  ...  [0.012, 0.0003]        0.0107       0.0179   \n",
       "\n",
       "       Precision@50  R-Precision  Recall@10         Recall@15  Recall@20  \\\n",
       "0  [0.0071, 0.0001]       0.0269     0.0848  [0.1076, 0.0024]      0.127   \n",
       "\n",
       "   Recall@5        Recall@50  \n",
       "0    0.0561  [0.2043, 0.003]  \n",
       "\n",
       "[1 rows x 23 columns]"
      ]
     },
     "execution_count": 16,
     "metadata": {},
     "output_type": "execute_result"
    }
   ],
   "source": [
    "df.insert(0, 'model', 'MacridVAE')\n",
    "df"
   ]
  },
  {
   "cell_type": "code",
   "execution_count": 17,
   "metadata": {
    "scrolled": true
   },
   "outputs": [],
   "source": [
    "df = df.sort_values(by='NDCG', ascending=False)[['model', 'R-Precision', 'NDCG', 'MAP@5',  'MAP@10', 'MAP@20', 'Precision@5', 'Precision@10', 'Precision@20', 'Recall@5', 'Recall@10', 'Recall@20']]"
   ]
  },
  {
   "cell_type": "code",
   "execution_count": 18,
   "metadata": {},
   "outputs": [
    {
     "data": {
      "text/html": [
       "<div>\n",
       "<style scoped>\n",
       "    .dataframe tbody tr th:only-of-type {\n",
       "        vertical-align: middle;\n",
       "    }\n",
       "\n",
       "    .dataframe tbody tr th {\n",
       "        vertical-align: top;\n",
       "    }\n",
       "\n",
       "    .dataframe thead th {\n",
       "        text-align: right;\n",
       "    }\n",
       "</style>\n",
       "<table border=\"1\" class=\"dataframe\">\n",
       "  <thead>\n",
       "    <tr style=\"text-align: right;\">\n",
       "      <th></th>\n",
       "      <th>model</th>\n",
       "      <th>R-Precision</th>\n",
       "      <th>NDCG</th>\n",
       "      <th>MAP@5</th>\n",
       "      <th>MAP@10</th>\n",
       "      <th>MAP@20</th>\n",
       "      <th>Precision@5</th>\n",
       "      <th>Precision@10</th>\n",
       "      <th>Precision@20</th>\n",
       "      <th>Recall@5</th>\n",
       "      <th>Recall@10</th>\n",
       "      <th>Recall@20</th>\n",
       "    </tr>\n",
       "  </thead>\n",
       "  <tbody>\n",
       "    <tr>\n",
       "      <th>7</th>\n",
       "      <td>AutoRec</td>\n",
       "      <td>0.0031</td>\n",
       "      <td>0.0181</td>\n",
       "      <td>0.0037</td>\n",
       "      <td>0.0036</td>\n",
       "      <td>0.0032</td>\n",
       "      <td>0.0039</td>\n",
       "      <td>0.0032</td>\n",
       "      <td>0.0025</td>\n",
       "      <td>0.0104</td>\n",
       "      <td>0.0169</td>\n",
       "      <td>0.0273</td>\n",
       "    </tr>\n",
       "    <tr>\n",
       "      <th>9</th>\n",
       "      <td>BPR</td>\n",
       "      <td>0.0148</td>\n",
       "      <td>0.0541</td>\n",
       "      <td>0.0127</td>\n",
       "      <td>0.0111</td>\n",
       "      <td>0.0094</td>\n",
       "      <td>0.0107</td>\n",
       "      <td>0.0088</td>\n",
       "      <td>0.0071</td>\n",
       "      <td>0.0323</td>\n",
       "      <td>0.0513</td>\n",
       "      <td>0.0819</td>\n",
       "    </tr>\n",
       "    <tr>\n",
       "      <th>3</th>\n",
       "      <td>CDAE</td>\n",
       "      <td>0.0035</td>\n",
       "      <td>0.0162</td>\n",
       "      <td>0.0036</td>\n",
       "      <td>0.0032</td>\n",
       "      <td>0.0028</td>\n",
       "      <td>0.0033</td>\n",
       "      <td>0.0025</td>\n",
       "      <td>0.0023</td>\n",
       "      <td>0.0085</td>\n",
       "      <td>0.0132</td>\n",
       "      <td>0.0248</td>\n",
       "    </tr>\n",
       "    <tr>\n",
       "      <th>1</th>\n",
       "      <td>CML</td>\n",
       "      <td>0.0118</td>\n",
       "      <td>0.0379</td>\n",
       "      <td>0.0098</td>\n",
       "      <td>0.0081</td>\n",
       "      <td>0.0067</td>\n",
       "      <td>0.0074</td>\n",
       "      <td>0.0059</td>\n",
       "      <td>0.0049</td>\n",
       "      <td>0.0208</td>\n",
       "      <td>0.0326</td>\n",
       "      <td>0.0533</td>\n",
       "    </tr>\n",
       "    <tr>\n",
       "      <th>5</th>\n",
       "      <td>NCE-PLRec</td>\n",
       "      <td>0.0194</td>\n",
       "      <td>0.0569</td>\n",
       "      <td>0.0169</td>\n",
       "      <td>0.0141</td>\n",
       "      <td>0.0114</td>\n",
       "      <td>0.0134</td>\n",
       "      <td>0.0104</td>\n",
       "      <td>0.0077</td>\n",
       "      <td>0.0395</td>\n",
       "      <td>0.0596</td>\n",
       "      <td>0.0861</td>\n",
       "    </tr>\n",
       "    <tr>\n",
       "      <th>4</th>\n",
       "      <td>PLRec</td>\n",
       "      <td>0.0177</td>\n",
       "      <td>0.0514</td>\n",
       "      <td>0.0150</td>\n",
       "      <td>0.0124</td>\n",
       "      <td>0.0100</td>\n",
       "      <td>0.0117</td>\n",
       "      <td>0.0090</td>\n",
       "      <td>0.0068</td>\n",
       "      <td>0.0351</td>\n",
       "      <td>0.0524</td>\n",
       "      <td>0.0772</td>\n",
       "    </tr>\n",
       "    <tr>\n",
       "      <th>0</th>\n",
       "      <td>POP</td>\n",
       "      <td>0.0024</td>\n",
       "      <td>0.0112</td>\n",
       "      <td>0.0021</td>\n",
       "      <td>0.0019</td>\n",
       "      <td>0.0019</td>\n",
       "      <td>0.0017</td>\n",
       "      <td>0.0019</td>\n",
       "      <td>0.0017</td>\n",
       "      <td>0.0046</td>\n",
       "      <td>0.0098</td>\n",
       "      <td>0.0174</td>\n",
       "    </tr>\n",
       "    <tr>\n",
       "      <th>8</th>\n",
       "      <td>PureSVD</td>\n",
       "      <td>0.0132</td>\n",
       "      <td>0.0408</td>\n",
       "      <td>0.0116</td>\n",
       "      <td>0.0098</td>\n",
       "      <td>0.0079</td>\n",
       "      <td>0.0093</td>\n",
       "      <td>0.0072</td>\n",
       "      <td>0.0054</td>\n",
       "      <td>0.0281</td>\n",
       "      <td>0.0423</td>\n",
       "      <td>0.0609</td>\n",
       "    </tr>\n",
       "    <tr>\n",
       "      <th>2</th>\n",
       "      <td>VAE-CF</td>\n",
       "      <td>0.0182</td>\n",
       "      <td>0.0562</td>\n",
       "      <td>0.0149</td>\n",
       "      <td>0.0125</td>\n",
       "      <td>0.0102</td>\n",
       "      <td>0.0119</td>\n",
       "      <td>0.0092</td>\n",
       "      <td>0.0071</td>\n",
       "      <td>0.0379</td>\n",
       "      <td>0.0571</td>\n",
       "      <td>0.0851</td>\n",
       "    </tr>\n",
       "    <tr>\n",
       "      <th>6</th>\n",
       "      <td>WRMF</td>\n",
       "      <td>0.0230</td>\n",
       "      <td>0.0783</td>\n",
       "      <td>0.0198</td>\n",
       "      <td>0.0171</td>\n",
       "      <td>0.0143</td>\n",
       "      <td>0.0166</td>\n",
       "      <td>0.0134</td>\n",
       "      <td>0.0104</td>\n",
       "      <td>0.0518</td>\n",
       "      <td>0.0814</td>\n",
       "      <td>0.1233</td>\n",
       "    </tr>\n",
       "    <tr>\n",
       "      <th>0</th>\n",
       "      <td>MacridVAE</td>\n",
       "      <td>0.0269</td>\n",
       "      <td>0.0828</td>\n",
       "      <td>0.0227</td>\n",
       "      <td>0.0190</td>\n",
       "      <td>0.0155</td>\n",
       "      <td>0.0179</td>\n",
       "      <td>0.0139</td>\n",
       "      <td>0.0107</td>\n",
       "      <td>0.0561</td>\n",
       "      <td>0.0848</td>\n",
       "      <td>0.1270</td>\n",
       "    </tr>\n",
       "  </tbody>\n",
       "</table>\n",
       "</div>"
      ],
      "text/plain": [
       "       model  R-Precision    NDCG   MAP@5  MAP@10  MAP@20  Precision@5  \\\n",
       "7    AutoRec       0.0031  0.0181  0.0037  0.0036  0.0032       0.0039   \n",
       "9        BPR       0.0148  0.0541  0.0127  0.0111  0.0094       0.0107   \n",
       "3       CDAE       0.0035  0.0162  0.0036  0.0032  0.0028       0.0033   \n",
       "1        CML       0.0118  0.0379  0.0098  0.0081  0.0067       0.0074   \n",
       "5  NCE-PLRec       0.0194  0.0569  0.0169  0.0141  0.0114       0.0134   \n",
       "4      PLRec       0.0177  0.0514  0.0150  0.0124  0.0100       0.0117   \n",
       "0        POP       0.0024  0.0112  0.0021  0.0019  0.0019       0.0017   \n",
       "8    PureSVD       0.0132  0.0408  0.0116  0.0098  0.0079       0.0093   \n",
       "2     VAE-CF       0.0182  0.0562  0.0149  0.0125  0.0102       0.0119   \n",
       "6       WRMF       0.0230  0.0783  0.0198  0.0171  0.0143       0.0166   \n",
       "0  MacridVAE       0.0269  0.0828  0.0227  0.0190  0.0155       0.0179   \n",
       "\n",
       "   Precision@10  Precision@20  Recall@5  Recall@10  Recall@20  \n",
       "7        0.0032        0.0025    0.0104     0.0169     0.0273  \n",
       "9        0.0088        0.0071    0.0323     0.0513     0.0819  \n",
       "3        0.0025        0.0023    0.0085     0.0132     0.0248  \n",
       "1        0.0059        0.0049    0.0208     0.0326     0.0533  \n",
       "5        0.0104        0.0077    0.0395     0.0596     0.0861  \n",
       "4        0.0090        0.0068    0.0351     0.0524     0.0772  \n",
       "0        0.0019        0.0017    0.0046     0.0098     0.0174  \n",
       "8        0.0072        0.0054    0.0281     0.0423     0.0609  \n",
       "2        0.0092        0.0071    0.0379     0.0571     0.0851  \n",
       "6        0.0134        0.0104    0.0518     0.0814     0.1233  \n",
       "0        0.0139        0.0107    0.0561     0.0848     0.1270  "
      ]
     },
     "execution_count": 18,
     "metadata": {},
     "output_type": "execute_result"
    }
   ],
   "source": [
    "df_total = df_baseline.append(df.head(1))\n",
    "df_total"
   ]
  },
  {
   "cell_type": "code",
   "execution_count": 19,
   "metadata": {},
   "outputs": [],
   "source": [
    "df_total.to_csv('tables/amazon/video_games/results.csv', index=False)"
   ]
  },
  {
   "cell_type": "code",
   "execution_count": null,
   "metadata": {},
   "outputs": [],
   "source": []
  }
 ],
 "metadata": {
  "kernelspec": {
   "display_name": "research",
   "language": "python",
   "name": "research"
  },
  "language_info": {
   "codemirror_mode": {
    "name": "ipython",
    "version": 3
   },
   "file_extension": ".py",
   "mimetype": "text/x-python",
   "name": "python",
   "nbconvert_exporter": "python",
   "pygments_lexer": "ipython3",
   "version": "3.7.5"
  }
 },
 "nbformat": 4,
 "nbformat_minor": 2
}
